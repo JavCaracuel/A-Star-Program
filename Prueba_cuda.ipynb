{
 "cells": [
  {
   "cell_type": "code",
   "execution_count": 3,
   "metadata": {},
   "outputs": [
    {
     "name": "stdout",
     "output_type": "stream",
     "text": [
      "without GPU: 2.763648599999982\n",
      "with GPU: 0.08299779999998691\n"
     ]
    }
   ],
   "source": [
    "import numba\n",
    "from numba import jit\n",
    "import numpy as np\n",
    "from timeit import default_timer as timer\n",
    "# To run on CPU\n",
    "def func(a):\n",
    "    for i in range(10000000):\n",
    "        a[i]+= 1\n",
    "# To run on GPU\n",
    "@jit\n",
    "def func2(x):\n",
    "    return x+1\n",
    "if __name__==\"__main__\":\n",
    "    n = 10000000\n",
    "    a = np.ones(n, dtype = np.float64)\n",
    "    start = timer()\n",
    "    func(a)\n",
    "    print(\"without GPU:\", timer()-start)\n",
    "    start = timer()\n",
    "    func2(a)\n",
    "    print(\"with GPU:\", timer()-start)"
   ]
  }
 ],
 "metadata": {
  "interpreter": {
   "hash": "23e8120f791123bb17c275ee36158d677f234b99df44745a192b87ecabcfa9b3"
  },
  "kernelspec": {
   "display_name": "Python 3.9.7 64-bit ('Cuda': conda)",
   "name": "python3"
  },
  "language_info": {
   "codemirror_mode": {
    "name": "ipython",
    "version": 3
   },
   "file_extension": ".py",
   "mimetype": "text/x-python",
   "name": "python",
   "nbconvert_exporter": "python",
   "pygments_lexer": "ipython3",
   "version": "3.9.7"
  },
  "orig_nbformat": 4
 },
 "nbformat": 4,
 "nbformat_minor": 2
}
