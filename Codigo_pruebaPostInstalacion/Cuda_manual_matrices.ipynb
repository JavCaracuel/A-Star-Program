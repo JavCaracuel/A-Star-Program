{
 "cells": [
  {
   "cell_type": "code",
   "execution_count": 13,
   "metadata": {},
   "outputs": [],
   "source": [
    "from numba import cuda, float32\n",
    "import math"
   ]
  },
  {
   "cell_type": "code",
   "execution_count": 14,
   "metadata": {},
   "outputs": [],
   "source": [
    "import numpy as np\n",
    "\n",
    "def square_matrix(size, *elements):\n",
    "    return np.array(elements).reshape(size, size)\n",
    "\n",
    "a= square_matrix(3,[2,3,4,2,1,2,3,4,1])\n",
    "b= square_matrix(3,[2,3,4,2,1,2,3,4,1])\n",
    "c= square_matrix(3,[0,0,0,0,0,0,0,0,0])\n",
    "\n",
    "#a=[[1,2,3,1,2,3,1,2,3]]\n",
    "# a=[[1,2,3],[1,2,3],[1,2,3]]\n",
    "# b=[[1,2,3],[1,2,3],[1,2,3]]\n",
    "# c=[[0,0,0],[0,0,0],[0,0,0]]"
   ]
  },
  {
   "cell_type": "code",
   "execution_count": 15,
   "metadata": {},
   "outputs": [],
   "source": [
    "@cuda.jit\n",
    "def matmul(A, B, C):\n",
    "    \"\"\"Perform square matrix multiplication of C = A * B\n",
    "    \"\"\"\n",
    "    i, j = cuda.grid(2)\n",
    "    if i < C.shape[0] and j < C.shape[1]:\n",
    "        tmp = 0.\n",
    "        for k in range(A.shape[1]):\n",
    "            tmp += A[i, k] * B[k, j]\n",
    "        C[i, j] = tmp\n"
   ]
  },
  {
   "cell_type": "code",
   "execution_count": 16,
   "metadata": {},
   "outputs": [
    {
     "name": "stdout",
     "output_type": "stream",
     "text": [
      "[[22 25 18]\n",
      " [12 15 12]\n",
      " [17 17 21]]\n"
     ]
    }
   ],
   "source": [
    "threadsperblock = (7, 7)\n",
    "blockspergrid_x = math.ceil(a.shape[0] / threadsperblock[0])\n",
    "blockspergrid_y = math.ceil(a.shape[1] / threadsperblock[1])\n",
    "blockspergrid = (blockspergrid_x, blockspergrid_y)\n",
    "matmul[blockspergrid, threadsperblock](a,b,c)\n",
    "\n",
    "print(c)"
   ]
  },
  {
   "cell_type": "code",
   "execution_count": null,
   "metadata": {},
   "outputs": [],
   "source": []
  }
 ],
 "metadata": {
  "interpreter": {
   "hash": "23e8120f791123bb17c275ee36158d677f234b99df44745a192b87ecabcfa9b3"
  },
  "kernelspec": {
   "display_name": "Python 3.9.7 64-bit ('Cuda': conda)",
   "language": "python",
   "name": "python3"
  },
  "language_info": {
   "codemirror_mode": {
    "name": "ipython",
    "version": 3
   },
   "file_extension": ".py",
   "mimetype": "text/x-python",
   "name": "python",
   "nbconvert_exporter": "python",
   "pygments_lexer": "ipython3",
   "version": "3.9.7"
  },
  "orig_nbformat": 4
 },
 "nbformat": 4,
 "nbformat_minor": 2
}
